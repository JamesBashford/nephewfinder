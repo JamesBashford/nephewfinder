{
  "nbformat": 4,
  "nbformat_minor": 0,
  "metadata": {
    "colab": {
      "name": "Simplified danny mikey code for app",
      "provenance": [],
      "collapsed_sections": []
    },
    "kernelspec": {
      "name": "python3",
      "display_name": "Python 3"
    },
    "accelerator": "GPU"
  },
  "cells": [
    {
      "cell_type": "code",
      "metadata": {
        "id": "bAEsV6zx2C60"
      },
      "source": [
        "from fastai2.vision.all import *\r\n",
        "from fastai2.vision.widgets import *"
      ],
      "execution_count": null,
      "outputs": []
    },
    {
      "cell_type": "code",
      "metadata": {
        "id": "cvcTM9Xs2FTa"
      },
      "source": [
        "path = Path()\r\n",
        "learn_inf = load_learner(path/'export.pkl', cpu=True)\r\n",
        "btn_upload = widgets.FileUpload()\r\n",
        "out_pl = widgets.Output()\r\n",
        "lbl_pred = widgets.Label()"
      ],
      "execution_count": null,
      "outputs": []
    },
    {
      "cell_type": "code",
      "metadata": {
        "id": "YoDz9rJc2mER"
      },
      "source": [
        "def on_click(change):\r\n",
        "    img = PILImage.create(btn_upload.data[-1])\r\n",
        "    out_pl.clear_output()\r\n",
        "    with out_pl: display(img.to_thumb(128,128))\r\n",
        "    pred,pred_idx,probs = learn_inf.predict(img)\r\n",
        "    lbl_pred.value = (f'I think it is: {pred} ({probs[pred_idx]*100:.00f})%') if (probs[pred_idx] > 0.80) else (f'Hmm, That is a difficult one. Sorry, I think it is {pred}; haha lol')"
      ],
      "execution_count": null,
      "outputs": []
    },
    {
      "cell_type": "code",
      "metadata": {
        "id": "Z7WgNS812nqS"
      },
      "source": [
        "\r\n",
        "btn_upload.observe(on_click, names=['data'])"
      ],
      "execution_count": null,
      "outputs": []
    },
    {
      "cell_type": "code",
      "metadata": {
        "id": "USd8IKjN2rv5"
      },
      "source": [
        "display(VBox([widgets.Label('Select your Mikey or Danny!'), btn_upload, out_pl, lbl_pred]))\r\n"
      ],
      "execution_count": null,
      "outputs": []
    }
  ]
}